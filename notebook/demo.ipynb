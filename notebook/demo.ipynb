{
 "cells": [
  {
   "cell_type": "code",
   "execution_count": 1,
   "id": "b96e83a0-2e18-4b54-81e0-edbf7238af17",
   "metadata": {},
   "outputs": [],
   "source": [
    "import os\n",
    "import ast\n",
    "from datasets import load_dataset"
   ]
  },
  {
   "cell_type": "code",
   "execution_count": 2,
   "id": "47eb70bb-fdfd-43a1-bda2-28f282c19990",
   "metadata": {},
   "outputs": [],
   "source": [
    "db = load_dataset(\"seungheondoh/lp-music-dialog\", split=\"train\")"
   ]
  },
  {
   "cell_type": "code",
   "execution_count": 4,
   "id": "d2289a14-639a-4629-9afc-a8cb85413bf6",
   "metadata": {},
   "outputs": [
    {
     "data": {
      "text/plain": [
       "[{'role': 'user',\n",
       "  'content': \"Hi there! I'm in the mood for optimistic music. Can you recommend something uplifting?\",\n",
       "  'intent': ['initial_query', 'add_filter', 'greeting'],\n",
       "  'music_attribute': ['mood:optimistic']},\n",
       " {'role': 'system',\n",
       "  'content': \"Sure, could you tell me more about the type of reggae music you enjoy? I'm here to assist you.\",\n",
       "  'intent': ['detail_attribute_request'],\n",
       "  'music_attribute': [],\n",
       "  'track_seq': ['SOEZOOE12A8C139302',\n",
       "   'SOCHTHV12A6D4F9791',\n",
       "   'SOKAFFC12A6D4FBB10',\n",
       "   'SONUUJR12AB018266C',\n",
       "   'SODJXSG12AAF3B52A8',\n",
       "   'SONWZUZ12A8C1382FA',\n",
       "   'SOXZEPJ12A6D4FBEED',\n",
       "   'SOWHHQX12A8C136FEE',\n",
       "   'SOFFFXQ12A8C13C039',\n",
       "   'SOWDNRM12A67020752']},\n",
       " {'role': 'user',\n",
       "  'content': \"I'd like to explore reggae music next.\",\n",
       "  'intent': ['add_filter'],\n",
       "  'music_attribute': ['genre:reggae']},\n",
       " {'role': 'system',\n",
       "  'content': 'Let me find some reggae tracks for you to enjoy.',\n",
       "  'intent': ['passive_recommend'],\n",
       "  'music_attribute': [],\n",
       "  'track_seq': ['SOFDDZV12A8C1388A5',\n",
       "   'SOIPZNK12A8C1388CB',\n",
       "   'SOAICVO12A58A7DA7E',\n",
       "   'SOQOBAV12A6D4F9521',\n",
       "   'SOBHAMD12A6D4F7C4C',\n",
       "   'SOHICAN12A6D4F9072',\n",
       "   'SOCHISD12A6D4F7C47',\n",
       "   'SOGYTNT12A6D4F906F',\n",
       "   'SOGKFWX12A8C137B12',\n",
       "   'SOJSCUA12A6D4F89EA']},\n",
       " {'role': 'user',\n",
       "  'content': \"You want to continue exploring more music? Let's continue the musical journey together.\",\n",
       "  'intent': ['continue', 'accept_response'],\n",
       "  'music_attribute': ['continue:continue']},\n",
       " {'role': 'system',\n",
       "  'content': \"Looking for more music? Let's dive deeper into the world of beats and melodies.\",\n",
       "  'intent': ['passive_recommend', 'parroting_response'],\n",
       "  'music_attribute': [],\n",
       "  'track_seq': ['SOZITGZ12A8C1400A9',\n",
       "   'SOTONHX12A58A7B308',\n",
       "   'SOQDBIT12A6D4F7DCC',\n",
       "   'SOEEBHA12A8C13ED84',\n",
       "   'SOHIHYT12A6D4F7D2A',\n",
       "   'SOELCCX12A58A7FDED',\n",
       "   'SOCKJFL12A6D4F494C',\n",
       "   'SOWSINJ12A67ADA38D',\n",
       "   'SORRGJV12A8C13B1F8',\n",
       "   'SOFGGBH12A8C13D812']},\n",
       " {'role': 'user',\n",
       "  'content': \"I'm interested in exploring rap music now.\",\n",
       "  'intent': ['accept_response', 'add_filter'],\n",
       "  'music_attribute': ['genre:rap']},\n",
       " {'role': 'system',\n",
       "  'content': \"Let's dive into the world of rap music. Get ready for some rhythmic and powerful beats.\",\n",
       "  'intent': ['passive_recommend'],\n",
       "  'music_attribute': [],\n",
       "  'track_seq': ['SODLFHZ12A58A7D312',\n",
       "   'SOQXUDY12A6D4F906E',\n",
       "   'SOGNPYN12A6D4F9078',\n",
       "   'SOMFTMD12A6D4F89EB',\n",
       "   'SOBKRXS12A8C138885',\n",
       "   'SOJXTRU12A6701EC76',\n",
       "   'SOVACWT12A58A7C29C',\n",
       "   'SOFVLLX12A6D4FBC69',\n",
       "   'SOWYHBU12A6D4F9071',\n",
       "   'SOAHDKA12A6D4F89E5']},\n",
       " {'role': 'user',\n",
       "  'content': \"I'm looking for rap music with a fast tempo.\",\n",
       "  'intent': ['add_filter'],\n",
       "  'music_attribute': ['tempo:fast tempo']},\n",
       " {'role': 'system',\n",
       "  'content': \"Got it! I'll search for rap tracks with a fast tempo for you.\",\n",
       "  'intent': ['parroting_response', 'passive_recommend'],\n",
       "  'music_attribute': [],\n",
       "  'track_seq': ['SOFZAUC12A81C2179E',\n",
       "   'SOGOXKR12A81C21799',\n",
       "   'SOCSGTU12A6D4F9075',\n",
       "   'SOUPIZF12A6D4F89E8',\n",
       "   'SOJXJNM12A6D4F9070',\n",
       "   'SOIDUDM12A6D4F89DF',\n",
       "   'SOWUEQB12A8C138D82',\n",
       "   'SOBEPSL12A8C1388A2',\n",
       "   'SOUUHIH12A6D4F89E4',\n",
       "   'SOHMPLN12A81C22B12']}]"
      ]
     },
     "execution_count": 4,
     "metadata": {},
     "output_type": "execute_result"
    }
   ],
   "source": [
    "ast.literal_eval(db[10][\"conversation\"])"
   ]
  },
  {
   "cell_type": "code",
   "execution_count": null,
   "id": "717fab6c-95c2-4b21-b5bf-e9e119a9b541",
   "metadata": {},
   "outputs": [],
   "source": []
  }
 ],
 "metadata": {
  "kernelspec": {
   "display_name": "Python 3 (ipykernel)",
   "language": "python",
   "name": "python3"
  },
  "language_info": {
   "codemirror_mode": {
    "name": "ipython",
    "version": 3
   },
   "file_extension": ".py",
   "mimetype": "text/x-python",
   "name": "python",
   "nbconvert_exporter": "python",
   "pygments_lexer": "ipython3",
   "version": "3.10.14"
  }
 },
 "nbformat": 4,
 "nbformat_minor": 5
}
